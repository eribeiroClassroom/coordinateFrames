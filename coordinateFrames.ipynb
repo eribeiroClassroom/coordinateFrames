{
 "cells": [
  {
   "cell_type": "markdown",
   "metadata": {},
   "source": [
    "## Coordinate frame transformations\n",
    "\n",
    "This example shows how to perform transformations with different coordinate frames. "
   ]
  },
  {
   "cell_type": "code",
   "execution_count": 29,
   "metadata": {},
   "outputs": [],
   "source": [
    "import numpy as np\n",
    "from vpython import *"
   ]
  },
  {
   "cell_type": "code",
   "execution_count": 30,
   "metadata": {},
   "outputs": [
    {
     "data": {
      "text/html": [
       "<div id=\"glowscript\" class=\"glowscript\"></div>"
      ],
      "text/plain": [
       "<IPython.core.display.HTML object>"
      ]
     },
     "metadata": {},
     "output_type": "display_data"
    },
    {
     "data": {
      "application/javascript": [
       "if (typeof Jupyter !== \"undefined\") { window.__context = { glowscript_container: $(\"#glowscript\").removeAttr(\"id\")};}else{ element.textContent = ' ';}"
      ],
      "text/plain": [
       "<IPython.core.display.Javascript object>"
      ]
     },
     "metadata": {},
     "output_type": "display_data"
    }
   ],
   "source": [
    "# Create a canvas in this cell to display the output of vpython. All updates will be made here. \n",
    "canvas()"
   ]
  },
  {
   "cell_type": "code",
   "execution_count": 31,
   "metadata": {},
   "outputs": [],
   "source": [
    "def Rz(angle):\n",
    "    \"\"\"\n",
    "    3-D Rotation (about the z-axis)\n",
    "    \"\"\"\n",
    "    return np.array( [[ cos(angle),  -sin(angle),   0 ],\n",
    "                      [ sin(angle),   cos(angle),   0 ],\n",
    "                      [          0,            0,   1 ]])"
   ]
  },
  {
   "cell_type": "code",
   "execution_count": 32,
   "metadata": {},
   "outputs": [],
   "source": [
    "def Rt( R, t ):\n",
    "    \"\"\"\n",
    "    Rigid-body transformation (homogeneous matrix)  [ R t ]\n",
    "                                                    [ 0 1 ]\n",
    "    where:\n",
    "\n",
    "    R: 3x3 rotation matrix\n",
    "    t: 3x1 translation vector\n",
    "    \"\"\"\n",
    "\n",
    "    return np.block([[   R,    t],\n",
    "                     [0, 0, 0, 1]])"
   ]
  },
  {
   "cell_type": "code",
   "execution_count": 33,
   "metadata": {},
   "outputs": [],
   "source": [
    "def DrawFrame(f):\n",
    "    \"\"\"\n",
    "    Draw coordinate frame using cylinders\n",
    "    \"\"\"\n",
    "    # Cylinders representing the coordinate frame\n",
    "    x_axis = cylinder(\n",
    "        # Translation vector of the frame matrix\n",
    "        pos    = vector(f[0,3],f[1,3],f[2,3]),\n",
    "        # x-axis of the frame is the 1st column of the rotation matrix of the matrix frame.\n",
    "        axis   = vector(f[0,0],f[1,0],f[2,0]),\n",
    "        radius = 0.03,\n",
    "        color  = vector(1,0,0)\n",
    "        )\n",
    "\n",
    "    y_axis = cylinder(\n",
    "        # Translation vector of the frame matrix\n",
    "        pos    = vector(f[0,3],f[1,3],f[2,3]),\n",
    "        # y-axis of the frame is the 2nd column of the rotation matrix of the matrix frame.\n",
    "        axis   = vector(f[0,1],f[1,1],f[2,1]),\n",
    "        radius = 0.03,\n",
    "        color  = vector(0,1,0)\n",
    "        )\n",
    "\n",
    "    z_axis = cylinder(\n",
    "        # Translation vector of the frame matrix\n",
    "        pos    = vector(f[0,3],f[1,3],f[2,3]),\n",
    "        # y-axis of the frame is the 3rd column of the rotation matrix of the matrix frame.\n",
    "        axis   = vector(f[0,2],f[1,2],f[2,2]),\n",
    "        radius = 0.03,\n",
    "        color  = vector(0,0,1)\n",
    "        )"
   ]
  },
  {
   "cell_type": "markdown",
   "metadata": {},
   "source": [
    "Each frame is described by a rigid-body transformation matrix. The matrix of Frame $j$ with respect to Frame $i$ is given by: \n",
    "$$\n",
    "\\begin{align}\n",
    "           T_{i,j} =            \n",
    "           \\begin{bmatrix}\n",
    "           \t R_{i,j} &{\\bf t}_{i,j}\\\\\n",
    "                 {\\bf 0}_{1x3} & 1 \n",
    "           \\end{bmatrix},                   \n",
    "\t\\label{T}\n",
    "\\end{align}\n",
    "$$\n",
    "where $R$ is a rotation matrix and ${\\bf t}$ is a translation vector. The translation vector is the origin of the coordinate frame. \n",
    "\n",
    "In many applications, we need to use multiple local coordinate frames that are related to each other and also related to a global coordinate frame. For simplicity, each local frame can be described first by a transformation written with respect to a chosen frame of reference. If we have a sequence of local frames then it is common to represent each local frame with respect to its previous frame. Once we have all the local frames written with respect to their previous counterpart, we can then perform change of coordinates to convert the local representation to a global one as needed. "
   ]
  },
  {
   "cell_type": "markdown",
   "metadata": {},
   "source": [
    "### Frame $\\{0\\}$ (the global frame)\n",
    "\n",
    "The global frame or Frame $\\{0\\}$ is an orthornormal frame centered at the origin of the global coordinate system. Its homogeneous matrix is the identity matrix, i.e.: \n",
    "$$\n",
    "\\begin{align}\n",
    "           T_{00} =            \n",
    "           \\begin{bmatrix}\n",
    "           \t I_{3\\times3} &{\\bf 0}_{3\\times1}\\\\\n",
    "                 {\\bf 0}_{1x3} & 1 \n",
    "           \\end{bmatrix}.                   \n",
    "\t\\label{T00}\n",
    "\\end{align}\n",
    "$$\n",
    "\n"
   ]
  },
  {
   "cell_type": "code",
   "execution_count": 34,
   "metadata": {},
   "outputs": [
    {
     "name": "stdout",
     "output_type": "stream",
     "text": [
      "\n",
      "Frame {0} = \n",
      " [[1. 0. 0. 0.]\n",
      " [0. 1. 0. 0.]\n",
      " [0. 0. 1. 0.]\n",
      " [0. 0. 0. 1.]]\n"
     ]
    }
   ],
   "source": [
    "# Transformation defining frame {0} (i.e., global frame).\n",
    "# Each column is an axis of the coordinate\n",
    "# frame (i.e., column 1 is the x-axis, column 2 is the y-axis,\n",
    "# and column 3 is the z-axis).\n",
    "T00 = Rt( np.identity(3), np.zeros((3, 1)) )\n",
    "print('\\nFrame {0} = \\n', T00)\n",
    "\n",
    "# Draw the frame\n",
    "DrawFrame(T00)"
   ]
  },
  {
   "cell_type": "markdown",
   "metadata": {},
   "source": [
    "### Frame $\\{1\\}$\n",
    "\n",
    "Let's now create another coordinate frame. The (local) transformation that represents Frame $\\{1\\}$ with respect to Frame $\\{0\\}$ is given by:  \n",
    "$$\n",
    "\\begin{align}\n",
    "           T_{0,1} =            \n",
    "           \\begin{bmatrix}\n",
    "           \t R_{0,1} &{\\bf t}_{0,1}\\\\\n",
    "                 {\\bf 0}_{1x3} & 1 \n",
    "           \\end{bmatrix}.                   \n",
    "\\end{align}\n",
    "$$\n",
    "\n",
    "\n",
    "\n",
    "Here, we will place this frame away from the previous frame, at a position ${\\bf t}_{0,1} = \\left(l, 0, l\\right)$. We can place it anywhere we want. In the example shown here, Frame $\\{1\\}$ will not be rotated with respect to Frame $\\{0\\}$. "
   ]
  },
  {
   "cell_type": "code",
   "execution_count": 35,
   "metadata": {},
   "outputs": [
    {
     "name": "stdout",
     "output_type": "stream",
     "text": [
      "\n",
      "T01 = \n",
      " [[ 1. -0.  0.  2.]\n",
      " [ 0.  1.  0.  0.]\n",
      " [ 0.  0.  1.  2.]\n",
      " [ 0.  0.  0.  1.]]\n"
     ]
    }
   ],
   "source": [
    "# Create another coordinate frame (local transformation matrix for the frame w.r.t. previous frame)\n",
    "l = 2                               # Translation distance along each axis \n",
    "R01 = Rz(0)                         # Rotation matrix\n",
    "t01 = np.array( [[l], [0.0], [l]] ) # Translation vector (origin of the frame)\n",
    "T01 = Rt(R01, t01)                  # Create (local) rigid-body transformation\n",
    "print('\\nT01 = \\n', T01)"
   ]
  },
  {
   "cell_type": "markdown",
   "metadata": {},
   "source": [
    "### Converting from local to global coordinates\n",
    "Prior to displaying each local frame, we must convert their matrix from a local to a global representation. This conversion is done by recursively multiplying the local frames in the order that they appear in the kinematic chain. The general conversion is given by: \n",
    "$$\n",
    "\\begin{align}\n",
    "           T_{0,i} = \\prod_{i=1}^{n} T_{i-1,i}.         \n",
    "\\end{align}\n",
    "$$\n",
    "i.e., \n",
    "\n",
    "$$\n",
    "T_{0,1} = T_{0,1}, \\\\\n",
    "T_{0,2} = T_{0,1}T_{1,2},\\\\\n",
    "T_{0,3} = T_{0,1}T_{1,2}T_{2,3},\\\\\n",
    "\\dots\\\\\n",
    "T_{0,n} = T_{0,1}T_{1,2}T_{2,3} \\dots T_{n-1,n} .\\\\\n",
    "$$"
   ]
  },
  {
   "cell_type": "code",
   "execution_count": 36,
   "metadata": {},
   "outputs": [
    {
     "name": "stdout",
     "output_type": "stream",
     "text": [
      "\n",
      "Frame {1} = \n",
      " [[ 1. -0.  0.  2.]\n",
      " [ 0.  1.  0.  0.]\n",
      " [ 0.  0.  1.  2.]\n",
      " [ 0.  0.  0.  1.]]\n"
     ]
    }
   ],
   "source": [
    "# To draw frame, we need first to calculate the transformation matrix representing\n",
    "# the frame in global coordinates. In the case of T01, its local matrix is already written \n",
    "# in terms of the global frame, and we do not need to convert it from local to global. \n",
    "\n",
    "print('\\nFrame {1} = \\n', T01)\n",
    "\n",
    "# Draw the new frame\n",
    "DrawFrame(T01)"
   ]
  },
  {
   "cell_type": "markdown",
   "metadata": {},
   "source": [
    "### Frame $\\{2\\}$"
   ]
  },
  {
   "cell_type": "code",
   "execution_count": 37,
   "metadata": {},
   "outputs": [
    {
     "name": "stdout",
     "output_type": "stream",
     "text": [
      "\n",
      "T12 =\n",
      " [[ 0.92387953 -0.38268343  0.          0.        ]\n",
      " [ 0.38268343  0.92387953  0.          1.        ]\n",
      " [ 0.          0.          1.          0.        ]\n",
      " [ 0.          0.          0.          1.        ]]\n"
     ]
    }
   ],
   "source": [
    "# Now, we create  another local frame. We call it frame {2}.\n",
    "# The transformation of this local frame is given w.r.t. previous\n",
    "# frame (i.e., frame 1). This frame will be translated away from\n",
    "# the previous frame along the y-axis direction. This new frame will also\n",
    "# be rotated w.r.t. previous frame.\n",
    "l = 1                               # Length of translation\n",
    "R12 = Rz(pi/8)                      # Rotation matrix\n",
    "t12 = np.array( [[0], [l], [0]] )   # Translation vector\n",
    "T12 = Rt(R12, t12)                  # Create (local) rigid-body transformation\n",
    "print('\\nT12 =\\n', T12)"
   ]
  },
  {
   "cell_type": "code",
   "execution_count": 38,
   "metadata": {},
   "outputs": [
    {
     "name": "stdout",
     "output_type": "stream",
     "text": [
      "\n",
      "Frame {2} = \n",
      " [[ 1. -0.  0.  2.]\n",
      " [ 0.  1.  0.  0.]\n",
      " [ 0.  0.  1.  2.]\n",
      " [ 0.  0.  0.  1.]]\n"
     ]
    }
   ],
   "source": [
    "# To draw frame {2}, we need first to calculate the transformation matrix representing\n",
    "# the frame in global coordinates, i.e., we need to calculate T02.\n",
    "T02 = np.dot(T01,T12)\n",
    "print('\\nFrame {2} = \\n', T01)\n",
    "\n",
    "# Draw the new frame\n",
    "DrawFrame(T02)"
   ]
  },
  {
   "cell_type": "markdown",
   "metadata": {},
   "source": [
    "### Frame $\\{3\\}$"
   ]
  },
  {
   "cell_type": "code",
   "execution_count": 39,
   "metadata": {},
   "outputs": [],
   "source": [
    "# Now, we create  another local frame.\n",
    "# The transformation of this local frame is given w.r.t. previous\n",
    "# frame. This frame will be translated away from\n",
    "# the previous frame along the y-axis direction. This new frame will also\n",
    "# be rotated w.r.t. previous frame.\n",
    "l = 1                               # Length of translation\n",
    "R23 = Rz(pi/8)                      # Rotation matrix\n",
    "t23 = np.array( [[0], [l], [0]] )   # Translation vector\n",
    "T23 = Rt(R23, t23)                  # Create (local) rigid-body transformation"
   ]
  },
  {
   "cell_type": "code",
   "execution_count": 40,
   "metadata": {},
   "outputs": [
    {
     "name": "stdout",
     "output_type": "stream",
     "text": [
      "\n",
      "Frame {3} = \n",
      " [[ 0.70710678 -0.70710678  0.          1.61731657]\n",
      " [ 0.70710678  0.70710678  0.          1.92387953]\n",
      " [ 0.          0.          1.          2.        ]\n",
      " [ 0.          0.          0.          1.        ]]\n"
     ]
    }
   ],
   "source": [
    "# To draw frame {3}, we need first to calculate the transformation matrix representing\n",
    "# the frame in global coordinates, i.e., we need to calculate T03.\n",
    "T03 = np.dot(T02,T23)\n",
    "print('\\nFrame {3} = \\n', T03)\n",
    "\n",
    "# Draw the new frame\n",
    "DrawFrame(T03)"
   ]
  },
  {
   "cell_type": "code",
   "execution_count": null,
   "metadata": {},
   "outputs": [],
   "source": []
  },
  {
   "cell_type": "code",
   "execution_count": null,
   "metadata": {},
   "outputs": [],
   "source": []
  },
  {
   "cell_type": "code",
   "execution_count": null,
   "metadata": {},
   "outputs": [],
   "source": []
  }
 ],
 "metadata": {
  "kernelspec": {
   "display_name": "Python 3",
   "language": "python",
   "name": "python3"
  },
  "language_info": {
   "codemirror_mode": {
    "name": "ipython",
    "version": 3
   },
   "file_extension": ".py",
   "mimetype": "text/x-python",
   "name": "python",
   "nbconvert_exporter": "python",
   "pygments_lexer": "ipython3",
   "version": "3.9.2"
  }
 },
 "nbformat": 4,
 "nbformat_minor": 4
}
